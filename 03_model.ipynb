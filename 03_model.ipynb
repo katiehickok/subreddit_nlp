{
 "cells": [
  {
   "cell_type": "markdown",
   "id": "cf8a135c-e788-43be-94af-23a1ff53e3a8",
   "metadata": {},
   "source": [
    "## 03 models"
   ]
  },
  {
   "cell_type": "code",
   "execution_count": 1,
   "id": "c7445f80-e6ce-4a8c-b031-db6812800864",
   "metadata": {
    "tags": []
   },
   "outputs": [],
   "source": [
    "# imports and libraries\n",
    "\n",
    "import numpy as np\n",
    "import pandas as pd\n",
    "import matplotlib.pyplot as plt\n",
    "import pickle\n",
    "\n",
    "from sklearn.ensemble import RandomForestClassifier, ExtraTreesClassifier\n",
    "from sklearn.model_selection import train_test_split, GridSearchCV, cross_val_score, RandomizedSearchCV\n",
    "from sklearn.pipeline import Pipeline\n",
    "from sklearn.naive_bayes import MultinomialNB\n",
    "from sklearn.linear_model import LogisticRegression\n",
    "from sklearn.metrics import confusion_matrix, plot_confusion_matrix\n",
    "from sklearn.feature_extraction.text import CountVectorizer, TfidfVectorizer\n",
    "from sklearn.svm import LinearSVC\n",
    "\n",
    "from scipy.stats import uniform, loguniform\n",
    "\n",
    "pd.options.display.max_colwidth = 400"
   ]
  },
  {
   "cell_type": "code",
   "execution_count": 2,
   "id": "7c75a0ed-9501-46ef-96fc-9eef6d53273e",
   "metadata": {},
   "outputs": [],
   "source": [
    "# seaborn styling\n",
    "import seaborn as sns\n",
    "\n",
    "sns.set_context('notebook') # size of text/graph elements\n",
    "#sns.despine() # takes away axes on charts with no grid\n",
    "sns.set_style('white') # background of chart color and if grid is present"
   ]
  },
  {
   "cell_type": "code",
   "execution_count": null,
   "id": "14f44192-8cf0-4535-827d-7a52349737be",
   "metadata": {},
   "outputs": [],
   "source": []
  },
  {
   "cell_type": "code",
   "execution_count": null,
   "id": "c5380ee5-4c8e-428b-ab07-e7952e22cd37",
   "metadata": {},
   "outputs": [],
   "source": []
  },
  {
   "cell_type": "markdown",
   "id": "bfe6c510-4589-4347-9ecf-dcebfc253308",
   "metadata": {
    "tags": []
   },
   "source": [
    "### import all_witcher_5000 df and format"
   ]
  },
  {
   "cell_type": "code",
   "execution_count": 3,
   "id": "7cfef2f2-6268-41b4-80e4-084f6ca46b49",
   "metadata": {},
   "outputs": [],
   "source": [
    "# pickle in all_witcher_5000 df\n",
    "with open('dataframes/all_witcher_5000.pkl', mode= 'rb') as pickle_in: \n",
    "    all_witcher_5000= pickle.load(pickle_in)"
   ]
  },
  {
   "cell_type": "code",
   "execution_count": 4,
   "id": "0d29222e-6d6d-4eff-a639-21e2a2ee8c1a",
   "metadata": {},
   "outputs": [
    {
     "name": "stdout",
     "output_type": "stream",
     "text": [
      "<class 'pandas.core.frame.DataFrame'>\n",
      "Int64Index: 9781 entries, 0 to 4994\n",
      "Data columns (total 6 columns):\n",
      " #   Column        Non-Null Count  Dtype  \n",
      "---  ------        --------------  -----  \n",
      " 0   subreddit     9781 non-null   object \n",
      " 1   title         9781 non-null   object \n",
      " 2   selftext      9781 non-null   object \n",
      " 3   score         9781 non-null   int64  \n",
      " 4   upvote_ratio  9781 non-null   float64\n",
      " 5   num_comments  9781 non-null   int64  \n",
      "dtypes: float64(1), int64(2), object(3)\n",
      "memory usage: 534.9+ KB\n"
     ]
    }
   ],
   "source": [
    "all_witcher_5000.info()"
   ]
  },
  {
   "cell_type": "code",
   "execution_count": 5,
   "id": "e0932199-b8bf-48fe-8288-669c6b1e2394",
   "metadata": {},
   "outputs": [],
   "source": [
    "# drop index so range is reflective of current total rows, not out of 10000 with removed rows\n",
    "\n",
    "all_witcher_5000.reset_index(drop= True, inplace= True)"
   ]
  },
  {
   "cell_type": "code",
   "execution_count": 6,
   "id": "c791693e-cfeb-4212-90ef-5c11871db001",
   "metadata": {},
   "outputs": [
    {
     "data": {
      "text/html": [
       "<div>\n",
       "<style scoped>\n",
       "    .dataframe tbody tr th:only-of-type {\n",
       "        vertical-align: middle;\n",
       "    }\n",
       "\n",
       "    .dataframe tbody tr th {\n",
       "        vertical-align: top;\n",
       "    }\n",
       "\n",
       "    .dataframe thead th {\n",
       "        text-align: right;\n",
       "    }\n",
       "</style>\n",
       "<table border=\"1\" class=\"dataframe\">\n",
       "  <thead>\n",
       "    <tr style=\"text-align: right;\">\n",
       "      <th></th>\n",
       "      <th>subreddit</th>\n",
       "      <th>title</th>\n",
       "      <th>selftext</th>\n",
       "      <th>score</th>\n",
       "      <th>upvote_ratio</th>\n",
       "      <th>num_comments</th>\n",
       "    </tr>\n",
       "  </thead>\n",
       "  <tbody>\n",
       "    <tr>\n",
       "      <th>0</th>\n",
       "      <td>Witcher3</td>\n",
       "      <td>Why did CD never patch the Wolf set bug?</td>\n",
       "      <td>This bug has always frustrated me. Why couldn't they ever fix this? The armour is practically unobtainable until NG+. Why didn't they ever patch that bug?</td>\n",
       "      <td>1</td>\n",
       "      <td>1.0</td>\n",
       "      <td>0</td>\n",
       "    </tr>\n",
       "    <tr>\n",
       "      <th>1</th>\n",
       "      <td>Witcher3</td>\n",
       "      <td>The heart of the woods quest</td>\n",
       "      <td>As you may remember/ know, the quest has two choices. I wasn’t really paying attention and picked the way where you kill the 5 wolves and offer it to the woods. And I was just wondering was that the right choice? Everyone except you dies at the end so it’s hard to know</td>\n",
       "      <td>1</td>\n",
       "      <td>1.0</td>\n",
       "      <td>0</td>\n",
       "    </tr>\n",
       "    <tr>\n",
       "      <th>2</th>\n",
       "      <td>Witcher3</td>\n",
       "      <td>Bought the complete edition on PS4</td>\n",
       "      <td>I had this in Xbox but ended up moving and left most of my Xbox games behind so I saw the complete edition on sale so I had to snatch this up. I have never beat the game and recently just bought a 40' inch Vizio. . .I feel that this run on the game will be much more beautiful. What is your favorite part of this game? Please no spoilers.</td>\n",
       "      <td>1</td>\n",
       "      <td>1.0</td>\n",
       "      <td>0</td>\n",
       "    </tr>\n",
       "    <tr>\n",
       "      <th>3</th>\n",
       "      <td>Witcher3</td>\n",
       "      <td>This merchant will give you 10 crowns minimum for any book! And the higher priced books he will give around 200 up to 350.</td>\n",
       "      <td></td>\n",
       "      <td>1</td>\n",
       "      <td>1.0</td>\n",
       "      <td>0</td>\n",
       "    </tr>\n",
       "    <tr>\n",
       "      <th>4</th>\n",
       "      <td>Witcher3</td>\n",
       "      <td>When will my winter berry’s grow back</td>\n",
       "      <td>Ice tried everything saving and quitting skipping time I’ve been spending hours actually playing the game the plants right next to them are growing back but the winter berry’s won’t</td>\n",
       "      <td>1</td>\n",
       "      <td>1.0</td>\n",
       "      <td>0</td>\n",
       "    </tr>\n",
       "  </tbody>\n",
       "</table>\n",
       "</div>"
      ],
      "text/plain": [
       "  subreddit  \\\n",
       "0  Witcher3   \n",
       "1  Witcher3   \n",
       "2  Witcher3   \n",
       "3  Witcher3   \n",
       "4  Witcher3   \n",
       "\n",
       "                                                                                                                        title  \\\n",
       "0                                                                                    Why did CD never patch the Wolf set bug?   \n",
       "1                                                                                                The heart of the woods quest   \n",
       "2                                                                                          Bought the complete edition on PS4   \n",
       "3  This merchant will give you 10 crowns minimum for any book! And the higher priced books he will give around 200 up to 350.   \n",
       "4                                                                                       When will my winter berry’s grow back   \n",
       "\n",
       "                                                                                                                                                                                                                                                                                                                                             selftext  \\\n",
       "0                                                                                                                                                                                          This bug has always frustrated me. Why couldn't they ever fix this? The armour is practically unobtainable until NG+. Why didn't they ever patch that bug?   \n",
       "1                                                                       As you may remember/ know, the quest has two choices. I wasn’t really paying attention and picked the way where you kill the 5 wolves and offer it to the woods. And I was just wondering was that the right choice? Everyone except you dies at the end so it’s hard to know   \n",
       "2  I had this in Xbox but ended up moving and left most of my Xbox games behind so I saw the complete edition on sale so I had to snatch this up. I have never beat the game and recently just bought a 40' inch Vizio. . .I feel that this run on the game will be much more beautiful. What is your favorite part of this game? Please no spoilers.   \n",
       "3                                                                                                                                                                                                                                                                                                                                                       \n",
       "4                                                                                                                                                               Ice tried everything saving and quitting skipping time I’ve been spending hours actually playing the game the plants right next to them are growing back but the winter berry’s won’t   \n",
       "\n",
       "   score  upvote_ratio  num_comments  \n",
       "0      1           1.0             0  \n",
       "1      1           1.0             0  \n",
       "2      1           1.0             0  \n",
       "3      1           1.0             0  \n",
       "4      1           1.0             0  "
      ]
     },
     "execution_count": 6,
     "metadata": {},
     "output_type": "execute_result"
    }
   ],
   "source": [
    "all_witcher_5000.head()"
   ]
  },
  {
   "cell_type": "code",
   "execution_count": null,
   "id": "53e301d6-26a9-40d5-ae72-3e01a92db4a3",
   "metadata": {},
   "outputs": [],
   "source": []
  },
  {
   "cell_type": "code",
   "execution_count": null,
   "id": "4029ebe3-af30-45c7-973c-73af7b431162",
   "metadata": {},
   "outputs": [],
   "source": []
  },
  {
   "cell_type": "markdown",
   "id": "5e703fdf-ea07-4e56-ad94-c2d3ac3d321b",
   "metadata": {},
   "source": [
    "### model setup and baseline accuracy"
   ]
  },
  {
   "cell_type": "code",
   "execution_count": 7,
   "id": "8f28669c-1832-4cca-99ae-473ea4a753f2",
   "metadata": {},
   "outputs": [],
   "source": [
    "X= all_witcher_5000['title']\n",
    "y= all_witcher_5000['subreddit']\n",
    "\n",
    "X_train, X_test, y_train, y_test = train_test_split(X, y, random_state=42, stratify=y)"
   ]
  },
  {
   "cell_type": "code",
   "execution_count": 8,
   "id": "6646f53d-c8b7-420b-89ed-bfe0dd259dc9",
   "metadata": {
    "tags": []
   },
   "outputs": [
    {
     "data": {
      "text/plain": [
       "Witcher3          0.507719\n",
       "netflixwitcher    0.492281\n",
       "Name: subreddit, dtype: float64"
      ]
     },
     "execution_count": 8,
     "metadata": {},
     "output_type": "execute_result"
    }
   ],
   "source": [
    "# baseline accuracy\n",
    "y.value_counts(normalize= True)"
   ]
  },
  {
   "cell_type": "code",
   "execution_count": 10,
   "id": "b1d109f2-9ba5-4036-81d0-bff8efb3c646",
   "metadata": {
    "tags": []
   },
   "outputs": [
    {
     "data": {
      "text/plain": [
       "((9781,), (7335,), (2446,))"
      ]
     },
     "execution_count": 10,
     "metadata": {},
     "output_type": "execute_result"
    }
   ],
   "source": [
    "X.shape, X_train.shape, X_test.shape"
   ]
  },
  {
   "cell_type": "code",
   "execution_count": null,
   "id": "1354dffa-13b0-4ee3-b133-419b83754d88",
   "metadata": {},
   "outputs": [],
   "source": []
  },
  {
   "cell_type": "code",
   "execution_count": null,
   "id": "94c38762-a94e-43a8-9f8c-26bfef72ba8d",
   "metadata": {},
   "outputs": [],
   "source": []
  },
  {
   "cell_type": "markdown",
   "id": "4bc168da-772e-4742-a85b-8aea16e68321",
   "metadata": {},
   "source": [
    "### create new custon stop words list for count vectorization"
   ]
  },
  {
   "cell_type": "code",
   "execution_count": 9,
   "id": "7b07df21-4949-4415-b688-4a06299b08b0",
   "metadata": {},
   "outputs": [],
   "source": [
    "default_stop_words = list(CountVectorizer(stop_words = 'english').get_stop_words())\n",
    "witcher_stop_words = ['did', 'got', 'just', 'does', 'need', 'amp', 've', 'amp']\n",
    "\n",
    "custom_stop_words = default_stop_words + witcher_stop_words"
   ]
  },
  {
   "cell_type": "code",
   "execution_count": null,
   "id": "1a289be6-1159-4c26-9c10-0334de27b089",
   "metadata": {},
   "outputs": [],
   "source": []
  },
  {
   "cell_type": "code",
   "execution_count": null,
   "id": "0b42caac-4a65-43e4-8983-051a9761b1f3",
   "metadata": {},
   "outputs": [],
   "source": []
  },
  {
   "cell_type": "markdown",
   "id": "39e5b0bb-8e3c-4d56-9812-ab34d3bd53ed",
   "metadata": {
    "tags": []
   },
   "source": [
    "### model 1: cv/mnb- randomsearch"
   ]
  },
  {
   "cell_type": "code",
   "execution_count": 11,
   "id": "a123fc0f-d732-43dc-8335-edbfe91df19f",
   "metadata": {},
   "outputs": [
    {
     "data": {
      "text/plain": [
       "dict_keys(['memory', 'steps', 'verbose', 'cv', 'mnb', 'cv__analyzer', 'cv__binary', 'cv__decode_error', 'cv__dtype', 'cv__encoding', 'cv__input', 'cv__lowercase', 'cv__max_df', 'cv__max_features', 'cv__min_df', 'cv__ngram_range', 'cv__preprocessor', 'cv__stop_words', 'cv__strip_accents', 'cv__token_pattern', 'cv__tokenizer', 'cv__vocabulary', 'mnb__alpha', 'mnb__class_prior', 'mnb__fit_prior'])"
      ]
     },
     "execution_count": 11,
     "metadata": {},
     "output_type": "execute_result"
    }
   ],
   "source": [
    "pipe_cv_mnb= Pipeline([\n",
    "    ('cv', CountVectorizer()),\n",
    "    ('mnb', MultinomialNB())\n",
    "])\n",
    "\n",
    "pipe_cv_mnb.get_params().keys()"
   ]
  },
  {
   "cell_type": "code",
   "execution_count": 21,
   "id": "84af86bf-efd8-4167-82d1-07b2bf407479",
   "metadata": {},
   "outputs": [
    {
     "name": "stdout",
     "output_type": "stream",
     "text": [
      "Fitting 5 folds for each of 100 candidates, totalling 500 fits\n",
      "best score: 0.8121431486629762\n",
      "best params: {'cv__max_features': 2000, 'cv__min_df': 0.0008283175685403598, 'cv__ngram_range': (1, 3), 'cv__stop_words': 'english'}\n",
      "\n",
      "train score: 0.8375451934135564\n",
      "test params: 0.812114677744125\n"
     ]
    }
   ],
   "source": [
    "pipe_cv_mnb_params = {\n",
    "    'cv__stop_words': ['english', custom_stop_words], \n",
    "    'cv__min_df': uniform(0, 0.15),\n",
    "    'cv__ngram_range': [(1, 1), (1, 2), (1, 3)],\n",
    "    'cv__max_features': [1_500, 2_000]\n",
    "}\n",
    "\n",
    "rs_cv_mnb= RandomizedSearchCV(pipe_cv_mnb, param_distributions= pipe_cv_mnb_params, cv= 5, n_jobs = -2,\n",
    "                              verbose= 2, random_state= 42, n_iter = 100, error_score='raise', scoring= 'f1_weighted')\n",
    "rs_cv_mnb.fit(X_train, y_train)\n",
    "\n",
    "print(f'best score: {rs_cv_mnb.best_score_}')\n",
    "print(f'best params: {rs_cv_mnb.best_params_}')\n",
    "print()\n",
    "print(f'train score: {rs_cv_mnb.score(X_train, y_train)}')\n",
    "print(f'test score: {rs_cv_mnb.score(X_test, y_test)}')"
   ]
  },
  {
   "cell_type": "code",
   "execution_count": 20,
   "id": "cb9f95c4-4973-4045-b21e-3a64306fdbc6",
   "metadata": {},
   "outputs": [
    {
     "data": {
      "image/png": "[encoded data removed]",
      "text/plain": [
       "<Figure size 432x288 with 2 Axes>"
      ]
     },
     "metadata": {},
     "output_type": "display_data"
    }
   ],
   "source": [
    "plot_confusion_matrix(rs_cv_mnb, X_test, y_test, cmap= 'Greens');"
   ]
  },
  {
   "cell_type": "code",
   "execution_count": null,
   "id": "98a3da75-495a-49f3-9064-af78c7954fd9",
   "metadata": {},
   "outputs": [],
   "source": []
  },
  {
   "cell_type": "code",
   "execution_count": null,
   "id": "aeeeb983-6299-4864-b76a-ff703c461225",
   "metadata": {},
   "outputs": [],
   "source": []
  },
  {
   "cell_type": "markdown",
   "id": "9163f46f-a6d1-48e6-9d6f-1663d094c120",
   "metadata": {
    "tags": []
   },
   "source": [
    "### model 2: cv/mnb- gridsearch"
   ]
  },
  {
   "cell_type": "code",
   "execution_count": 46,
   "id": "deea2381-195a-45f6-9fd9-f9c4e8e2342b",
   "metadata": {},
   "outputs": [
    {
     "data": {
      "text/plain": [
       "dict_keys(['memory', 'steps', 'verbose', 'cv', 'mnb', 'cv__analyzer', 'cv__binary', 'cv__decode_error', 'cv__dtype', 'cv__encoding', 'cv__input', 'cv__lowercase', 'cv__max_df', 'cv__max_features', 'cv__min_df', 'cv__ngram_range', 'cv__preprocessor', 'cv__stop_words', 'cv__strip_accents', 'cv__token_pattern', 'cv__tokenizer', 'cv__vocabulary', 'mnb__alpha', 'mnb__class_prior', 'mnb__fit_prior'])"
      ]
     },
     "execution_count": 46,
     "metadata": {},
     "output_type": "execute_result"
    }
   ],
   "source": [
    "pipe_cv_mnb= Pipeline([\n",
    "    ('cv', CountVectorizer()),\n",
    "    ('mnb', MultinomialNB())\n",
    "])\n",
    "\n",
    "pipe_cv_mnb.get_params().keys()"
   ]
  },
  {
   "cell_type": "code",
   "execution_count": 47,
   "id": "869e13b4-f4db-43f6-a99a-3f19f65e399a",
   "metadata": {},
   "outputs": [
    {
     "name": "stdout",
     "output_type": "stream",
     "text": [
      "Fitting 5 folds for each of 36 candidates, totalling 180 fits\n",
      "best score: 0.8031356509884118\n",
      "best params: {'cv__max_features': 750, 'cv__min_df': 5, 'cv__ngram_range': (1, 1), 'cv__stop_words': ['describe', 'were', 'seem', 'thereafter', 'six', 'much', 'otherwise', 'to', 'each', 'these', 'from', 'whole', 'toward', 'never', 'thence', 'everywhere', 'back', 'becoming', 'being', 'former', 'nevertheless', 'seems', 'hundred', 'herein', 'least', 'ever', 'though', 'therein', 'after', 'was', 'etc', 'why', 'any', 'latterly', 'thereupon', 'his', 'sixty', 'always', 'by', 'interest', 'has', 'or', 'part', 'both', 'upon', 'this', 'via', 'see', 'namely', 'of', 'further', 'meanwhile', 'hasnt', 'detail', 'mostly', 'bill', 'are', 'becomes', 'for', 'another', 'beyond', 'nobody', 'top', 'ie', 'now', 'without', 'nowhere', 'very', 'done', 'you', 'besides', 'themselves', 'whereas', 'however', 'again', 'get', 'there', 'here', 'could', 'behind', 'into', 'my', 'neither', 'eg', 'rather', 'the', 'still', 'whether', 'often', 'yours', 'do', 'beside', 'during', 'sincere', 'between', 'a', 'bottom', 'had', 'me', 'twenty', 'within', 'those', 'anywhere', 'co', 'please', 'off', 'hers', 'where', 'before', 'eleven', 'several', 'will', 'last', 'across', 'only', 'with', 'inc', 'due', 'have', 'something', 'how', 'herself', 'next', 'con', 'which', 'moreover', 'an', 'five', 'no', 'as', 'everyone', 'among', 'other', 'move', 'cry', 'should', 'whoever', 'may', 'them', 'seeming', 'some', 'become', 'once', 'elsewhere', 'fifty', 'onto', 'four', 'on', 'cannot', 'give', 'him', 'two', 'cant', 'nor', 'thick', 'sometimes', 'hereby', 'indeed', 'who', 'every', 'whom', 'thereby', 'became', 'because', 'our', 'whence', 'eight', 'myself', 'at', 'she', 'that', 'twelve', 'afterwards', 'is', 'would', 'anything', 'someone', 'out', 'since', 'around', 'keep', 'thus', 'ours', 'therefore', 'fill', 'others', 'whatever', 'nothing', 'amount', 'full', 'throughout', 'whose', 'whereupon', 'i', 'mine', 'not', 'three', 'beforehand', 'then', 'everything', 'thin', 'many', 'yourselves', 'until', 'less', 'per', 'but', 'same', 'also', 'yet', 'couldnt', 'somewhere', 'ltd', 'your', 'empty', 'front', 'while', 'must', 'even', 'de', 'such', 'all', 'own', 'below', 'amoungst', 'it', 'anyhow', 'their', 'one', 'call', 'third', 'whereafter', 'thru', 'can', 'name', 'about', 'system', 'un', 'anyway', 'yourself', 'than', 'enough', 'us', 'against', 'first', 'most', 'seemed', 'fifteen', 'serious', 'side', 'found', 'too', 'take', 'made', 'find', 'show', 'somehow', 'more', 'amongst', 'been', 'he', 'under', 'we', 'they', 'ourselves', 'itself', 'sometime', 'hence', 'and', 'am', 'put', 'mill', 'wherever', 'its', 'if', 'towards', 'together', 'few', 'so', 'well', 'go', 'in', 'along', 'whither', 'might', 'nine', 'through', 'already', 'wherein', 'ten', 'anyone', 're', 'although', 'when', 'up', 'fire', 'down', 'perhaps', 'above', 'either', 'over', 'hereafter', 'forty', 'himself', 'else', 'except', 'what', 'none', 'be', 'whereby', 'noone', 'latter', 'almost', 'hereupon', 'alone', 'her', 'formerly', 'whenever', 'did', 'got', 'just', 'does', 'need', 'amp', 've', 'amp', 'way']}\n",
      "\n",
      "train score: 0.8289025221540559\n",
      "test params: 0.8062142273098937\n"
     ]
    }
   ],
   "source": [
    "pipe_cv_mnb_params = {\n",
    "    'cv__stop_words': ['english', custom_stop_words], \n",
    "    'cv__min_df': [2, 5, 10],\n",
    "    'cv__ngram_range': [(1, 1), (1, 2), (1, 3)],\n",
    "    'cv__max_features': [500, 750]\n",
    "}\n",
    "\n",
    "gs_cv_mnb= GridSearchCV(pipe_cv_mnb, param_grid= pipe_cv_mnb_params, cv= 5, verbose= 1) # 5-fold cross-validation.\n",
    "gs_cv_mnb.fit(X_train, y_train)\n",
    "\n",
    "print(f'best score: {gs_cv_mnb.best_score_}')\n",
    "print(f'best params: {gs_cv_mnb.best_params_}')\n",
    "print()\n",
    "print(f'train score: {gs_cv_mnb.score(X_train, y_train)}')\n",
    "print(f'test score: {gs_cv_mnb.score(X_test, y_test)}')"
   ]
  },
  {
   "cell_type": "code",
   "execution_count": 48,
   "id": "5ed925ef-2fa3-4f96-b4ac-5065c8b7a746",
   "metadata": {},
   "outputs": [
    {
     "data": {
      "image/png": "[encoded data removed]",
      "text/plain": [
       "<Figure size 432x288 with 2 Axes>"
      ]
     },
     "metadata": {},
     "output_type": "display_data"
    }
   ],
   "source": [
    "plot_confusion_matrix(gs_cv_mnb, X_test, y_test, cmap= 'Greens');"
   ]
  },
  {
   "cell_type": "code",
   "execution_count": null,
   "id": "8147c0bb-9ddb-4820-9cf0-6b9ed7738756",
   "metadata": {},
   "outputs": [],
   "source": []
  },
  {
   "cell_type": "code",
   "execution_count": null,
   "id": "7b2d0d57-f279-42f9-a964-7ac31f876a3b",
   "metadata": {},
   "outputs": [],
   "source": []
  },
  {
   "cell_type": "markdown",
   "id": "96c20e0f-6c28-4800-8def-76bc74a5abda",
   "metadata": {},
   "source": [
    "### model 3: cv/log- gridsearch"
   ]
  },
  {
   "cell_type": "code",
   "execution_count": 25,
   "id": "3a89635b-2b0d-4406-9ffc-0963f0cc0d4b",
   "metadata": {},
   "outputs": [
    {
     "data": {
      "text/plain": [
       "dict_keys(['memory', 'steps', 'verbose', 'cv', 'log', 'cv__analyzer', 'cv__binary', 'cv__decode_error', 'cv__dtype', 'cv__encoding', 'cv__input', 'cv__lowercase', 'cv__max_df', 'cv__max_features', 'cv__min_df', 'cv__ngram_range', 'cv__preprocessor', 'cv__stop_words', 'cv__strip_accents', 'cv__token_pattern', 'cv__tokenizer', 'cv__vocabulary', 'log__C', 'log__class_weight', 'log__dual', 'log__fit_intercept', 'log__intercept_scaling', 'log__l1_ratio', 'log__max_iter', 'log__multi_class', 'log__n_jobs', 'log__penalty', 'log__random_state', 'log__solver', 'log__tol', 'log__verbose', 'log__warm_start'])"
      ]
     },
     "execution_count": 25,
     "metadata": {},
     "output_type": "execute_result"
    }
   ],
   "source": [
    "pipe_cv_log= Pipeline([\n",
    "    ('cv', CountVectorizer()),\n",
    "    ('log', LogisticRegression()),\n",
    "])\n",
    "\n",
    "pipe_cv_log.get_params().keys()"
   ]
  },
  {
   "cell_type": "code",
   "execution_count": 26,
   "id": "6cb95eb8-da73-4d7f-9c7b-6305a7aaa99f",
   "metadata": {},
   "outputs": [
    {
     "name": "stdout",
     "output_type": "stream",
     "text": [
      "Fitting 5 folds for each of 360 candidates, totalling 1800 fits\n",
      "best score: 0.8104976141785958\n",
      "best params: {'cv__max_features': 1000, 'cv__min_df': 5, 'cv__ngram_range': (1, 1), 'cv__stop_words': 'english', 'log__C': 1.0023052380778996, 'log__max_iter': 1000, 'log__penalty': 'l1', 'log__solver': 'liblinear'}\n",
      "\n",
      "train score: 0.8553510565780504\n",
      "test params: 0.8152085036794767\n"
     ]
    }
   ],
   "source": [
    "pipe_cv_log_params = {\n",
    "    'cv__stop_words': ['english', custom_stop_words], \n",
    "    'cv__min_df': [2, 5, 10],\n",
    "    'cv__ngram_range': [(1, 1), (1, 2), (1, 3)],\n",
    "    'cv__max_features': [1_000],\n",
    "    'log__C': np.logspace(0.001, 10, 10),\n",
    "    'log__penalty': ['l1', 'l2'],\n",
    "    'log__solver': ['liblinear'],\n",
    "    'log__max_iter': [1_000]\n",
    "}\n",
    "\n",
    "gs_cv_log= GridSearchCV(pipe_cv_log, param_grid= pipe_cv_log_params, cv= 5, verbose= 1) # 5-fold cross-validation.\n",
    "gs_cv_log.fit(X_train, y_train)\n",
    "\n",
    "print(f'best score: {gs_cv_log.best_score_}')\n",
    "print(f'best params: {gs_cv_log.best_params_}')\n",
    "print()\n",
    "print(f'train score: {gs_cv_log.score(X_train, y_train)}')\n",
    "print(f'test score: {gs_cv_log.score(X_test, y_test)}')"
   ]
  },
  {
   "cell_type": "code",
   "execution_count": 93,
   "id": "0726d4b0-385d-460f-8ba4-a05053676de6",
   "metadata": {},
   "outputs": [
    {
     "data": {
      "image/png": "[encoded data removed]",
      "text/plain": [
       "<Figure size 432x432 with 2 Axes>"
      ]
     },
     "metadata": {},
     "output_type": "display_data"
    }
   ],
   "source": [
    "fig, ax = plt.subplots(figsize=(6, 6)) # from https://stackoverflow.com/questions/59839782/confusion-matrix-font-size\n",
    "plot_confusion_matrix(gs_cv_log, X_test, y_test, cmap= 'Oranges', ax= ax);"
   ]
  },
  {
   "cell_type": "code",
   "execution_count": 105,
   "id": "390dcdbf-514d-4368-9a2a-56073adac8bb",
   "metadata": {},
   "outputs": [
    {
     "name": "stdout",
     "output_type": "stream",
     "text": [
      "specificity:0.882\n",
      "sensitivity: 0.746\n",
      "accuracy: 0.815\n"
     ]
    }
   ],
   "source": [
    "tn, fp, fn, tp= 1096, 146, 306, 898\n",
    "\n",
    "spec = tn / (tn + fp)\n",
    "print(f'specificity:{round(spec, 3)}')\n",
    "\n",
    "sens = tp / (tp + fn)\n",
    "print(f'sensitivity: {round(sens, 3)}')\n",
    "\n",
    "acc= (tn + tp) / (tp + tn + fp + fn)\n",
    "print(f'accuracy: {round(acc, 3)}')"
   ]
  },
  {
   "cell_type": "code",
   "execution_count": null,
   "id": "4d3f6c98-a62a-456a-8f7f-79276a75ec34",
   "metadata": {},
   "outputs": [],
   "source": []
  },
  {
   "cell_type": "code",
   "execution_count": null,
   "id": "61cf6253-5492-4cd5-8690-533e6d7c99af",
   "metadata": {},
   "outputs": [],
   "source": []
  },
  {
   "cell_type": "markdown",
   "id": "a6453e55-ec2b-4298-8ff4-b7fddb11440a",
   "metadata": {},
   "source": [
    "### model 4: tfidf/log- gridsearch"
   ]
  },
  {
   "cell_type": "code",
   "execution_count": 10,
   "id": "e99337c6-afe2-4cc0-a7f1-09e3f4fd1859",
   "metadata": {},
   "outputs": [
    {
     "data": {
      "text/plain": [
       "dict_keys(['memory', 'steps', 'verbose', 'tfidf', 'log', 'tfidf__analyzer', 'tfidf__binary', 'tfidf__decode_error', 'tfidf__dtype', 'tfidf__encoding', 'tfidf__input', 'tfidf__lowercase', 'tfidf__max_df', 'tfidf__max_features', 'tfidf__min_df', 'tfidf__ngram_range', 'tfidf__norm', 'tfidf__preprocessor', 'tfidf__smooth_idf', 'tfidf__stop_words', 'tfidf__strip_accents', 'tfidf__sublinear_tf', 'tfidf__token_pattern', 'tfidf__tokenizer', 'tfidf__use_idf', 'tfidf__vocabulary', 'log__C', 'log__class_weight', 'log__dual', 'log__fit_intercept', 'log__intercept_scaling', 'log__l1_ratio', 'log__max_iter', 'log__multi_class', 'log__n_jobs', 'log__penalty', 'log__random_state', 'log__solver', 'log__tol', 'log__verbose', 'log__warm_start'])"
      ]
     },
     "execution_count": 10,
     "metadata": {},
     "output_type": "execute_result"
    }
   ],
   "source": [
    "pipe_tfidf_log= Pipeline([\n",
    "    ('tfidf', TfidfVectorizer()),\n",
    "    ('log', LogisticRegression()),\n",
    "])\n",
    "\n",
    "pipe_tfidf_log.get_params().keys()"
   ]
  },
  {
   "cell_type": "code",
   "execution_count": 11,
   "id": "82ddf0fc-6313-45de-b206-eeecd9561472",
   "metadata": {},
   "outputs": [
    {
     "name": "stdout",
     "output_type": "stream",
     "text": [
      "Fitting 5 folds for each of 720 candidates, totalling 3600 fits\n"
     ]
    },
    {
     "name": "stderr",
     "output_type": "stream",
     "text": [
      "C:\\Users\\kindb\\anaconda3\\lib\\site-packages\\sklearn\\svm\\_base.py:985: ConvergenceWarning: Liblinear failed to converge, increase the number of iterations.\n",
      "  warnings.warn(\"Liblinear failed to converge, increase \"\n"
     ]
    },
    {
     "name": "stdout",
     "output_type": "stream",
     "text": [
      "best score: 0.812542603953647\n",
      "best params: {'log__C': 1.0023052380778996, 'log__max_iter': 1000, 'log__penalty': 'l2', 'log__solver': 'liblinear', 'tfidf__max_df': 0.25, 'tfidf__max_features': 1000, 'tfidf__min_df': 5, 'tfidf__ngram_range': (1, 1), 'tfidf__stop_words': ['here', 'any', 'ourselves', 'beyond', 'nine', 'yours', 'first', 'sincere', 'may', 'thence', 'this', 'while', 'throughout', 'twenty', 'how', 'con', 'elsewhere', 'six', 'yourself', 'wherein', 'nor', 'his', 'him', 'hers', 'thereupon', 'though', 'its', 'each', 'never', 'do', 'after', 'two', 'neither', 'when', 'behind', 'namely', 'please', 'with', 'serious', 'take', 'across', 'below', 'seeming', 'once', 'me', 'anyhow', 'over', 'whenever', 'see', 'your', 'nothing', 'too', 'also', 'go', 'there', 'have', 'be', 'whatever', 'during', 'nevertheless', 'five', 'into', 'whereupon', 'top', 'both', 'before', 'that', 'as', 'my', 'you', 'among', 'so', 'an', 'in', 'she', 'nowhere', 'one', 'further', 're', 'via', 'everything', 'and', 'well', 'these', 'upon', 'hereby', 'thus', 'hereafter', 'several', 'became', 'still', 'could', 'which', 'are', 'even', 'they', 'cant', 'many', 'should', 'else', 'something', 'ie', 'under', 'thereafter', 'indeed', 'detail', 'made', 'de', 'few', 'for', 'own', 'against', 'always', 'herself', 'at', 'herein', 'not', 'therefore', 'moreover', 'forty', 'except', 'around', 'down', 'along', 'has', 'themselves', 'their', 'less', 'ours', 'fifty', 'whereas', 'although', 'to', 'no', 'full', 'none', 'otherwise', 'yourselves', 'bottom', 'call', 'whither', 'either', 'front', 'therein', 'sometime', 'whether', 'was', 'fifteen', 'done', 'amongst', 'show', 'who', 'everyone', 'must', 'perhaps', 'become', 'un', 'eleven', 'another', 'same', 'cannot', 'is', 'most', 'whereafter', 'everywhere', 'rather', 'would', 'ten', 'eg', 'anywhere', 'been', 'often', 'four', 'beside', 'them', 'afterwards', 'etc', 'eight', 'part', 'becomes', 'alone', 'seemed', 'third', 'fire', 'hasnt', 'whence', 'very', 'hence', 'out', 'couldnt', 'through', 'hundred', 'those', 'system', 'but', 'am', 'again', 'within', 'whole', 'last', 'bill', 'itself', 'i', 'per', 'nobody', 'or', 'only', 'without', 'beforehand', 'if', 'we', 'thru', 'ever', 'next', 'more', 'latter', 'twelve', 'empty', 'thick', 'somehow', 'found', 'whoever', 'than', 'give', 'because', 'her', 'mine', 'three', 'amoungst', 'whereby', 'thereby', 'whom', 'above', 'name', 'enough', 'least', 'seem', 'anyway', 'mill', 'had', 'will', 'former', 'between', 'up', 'us', 'anyone', 'describe', 'the', 'whose', 'on', 'back', 'becoming', 'cry', 'side', 'hereupon', 'inc', 'ltd', 'wherever', 'besides', 'due', 'it', 'himself', 'move', 'meanwhile', 'almost', 'by', 'he', 'towards', 'latterly', 'toward', 'then', 'such', 'about', 'onto', 'mostly', 'all', 'being', 'already', 'amount', 'co', 'can', 'get', 'off', 'much', 'where', 'interest', 'sixty', 'a', 'some', 'somewhere', 'noone', 'find', 'however', 'sometimes', 'together', 'until', 'of', 'yet', 'keep', 'others', 'formerly', 'anything', 'seems', 'from', 'were', 'what', 'put', 'why', 'every', 'now', 'might', 'our', 'other', 'fill', 'thin', 'myself', 'someone', 'since', 'did', 'got', 'just', 'does', 'need', 'amp', 've', 'amp']}\n",
      "\n",
      "train score: 0.8578050443081118\n",
      "test score: 0.8111201962387572\n"
     ]
    }
   ],
   "source": [
    "pipe_tfidf_log_params = {\n",
    "    'tfidf__stop_words': ['english', custom_stop_words], \n",
    "    'tfidf__min_df': [2, 5, 10],\n",
    "    'tfidf__max_df': [0.25, 0.5],\n",
    "    'tfidf__ngram_range': [(1, 1), (1, 2), (1, 3)],\n",
    "    'tfidf__max_features': [1_000],\n",
    "    'log__C': np.logspace(0.001, 10, 10),\n",
    "    'log__penalty': ['l1', 'l2'],\n",
    "    'log__solver': ['liblinear'],\n",
    "    'log__max_iter': [1_000]\n",
    "}\n",
    "\n",
    "gs_tfidf_log= GridSearchCV(pipe_tfidf_log, param_grid= pipe_tfidf_log_params, cv= 5, verbose= 1) # 5-fold cross-validation.\n",
    "gs_tfidf_log.fit(X_train, y_train)\n",
    "\n",
    "print(f'best score: {gs_tfidf_log.best_score_}')\n",
    "print(f'best params: {gs_tfidf_log.best_params_}')\n",
    "print()\n",
    "print(f'train score: {gs_tfidf_log.score(X_train, y_train)}')\n",
    "print(f'test score: {gs_tfidf_log.score(X_test, y_test)}')"
   ]
  },
  {
   "cell_type": "code",
   "execution_count": 12,
   "id": "022cdbb8-74ba-413d-ad24-fb03ef85b514",
   "metadata": {},
   "outputs": [
    {
     "data": {
      "text/plain": [
       "<Figure size 576x576 with 0 Axes>"
      ]
     },
     "metadata": {},
     "output_type": "display_data"
    },
    {
     "data": {
      "image/png": "[encoded data removed]",
      "text/plain": [
       "<Figure size 432x288 with 2 Axes>"
      ]
     },
     "metadata": {},
     "output_type": "display_data"
    }
   ],
   "source": [
    "plt.figure(figsize= (8,8))\n",
    "plot_confusion_matrix(gs_tfidf_log, X_test, y_test, cmap= 'Reds');"
   ]
  },
  {
   "cell_type": "code",
   "execution_count": null,
   "id": "b9ee65da-f740-48e8-9a46-01e4fa475f9a",
   "metadata": {},
   "outputs": [],
   "source": []
  },
  {
   "cell_type": "code",
   "execution_count": null,
   "id": "6509d4bd-47b3-4e98-902a-90afc269f77c",
   "metadata": {},
   "outputs": [],
   "source": []
  },
  {
   "cell_type": "markdown",
   "id": "170317f6-ab80-45db-a74c-5401db92291c",
   "metadata": {},
   "source": [
    "### model 5: tfidf/mnb- gridsearch"
   ]
  },
  {
   "cell_type": "code",
   "execution_count": 18,
   "id": "02a86694-8cdb-492d-984b-a452e496865b",
   "metadata": {},
   "outputs": [
    {
     "data": {
      "text/plain": [
       "dict_keys(['memory', 'steps', 'verbose', 'tfidf', 'mnb', 'tfidf__analyzer', 'tfidf__binary', 'tfidf__decode_error', 'tfidf__dtype', 'tfidf__encoding', 'tfidf__input', 'tfidf__lowercase', 'tfidf__max_df', 'tfidf__max_features', 'tfidf__min_df', 'tfidf__ngram_range', 'tfidf__norm', 'tfidf__preprocessor', 'tfidf__smooth_idf', 'tfidf__stop_words', 'tfidf__strip_accents', 'tfidf__sublinear_tf', 'tfidf__token_pattern', 'tfidf__tokenizer', 'tfidf__use_idf', 'tfidf__vocabulary', 'mnb__alpha', 'mnb__class_prior', 'mnb__fit_prior'])"
      ]
     },
     "execution_count": 18,
     "metadata": {},
     "output_type": "execute_result"
    }
   ],
   "source": [
    "pipe_tfidf_mnb= Pipeline([\n",
    "    ('tfidf', TfidfVectorizer()),\n",
    "    ('mnb', MultinomialNB())\n",
    "])\n",
    "\n",
    "pipe_tfidf_mnb.get_params().keys()"
   ]
  },
  {
   "cell_type": "code",
   "execution_count": 51,
   "id": "b5aad4ce-f59a-40ff-b55e-19399a6bd84c",
   "metadata": {},
   "outputs": [
    {
     "name": "stdout",
     "output_type": "stream",
     "text": [
      "Fitting 5 folds for each of 54 candidates, totalling 270 fits\n",
      "best score: 0.8096796182685754\n",
      "best params: {'mnb__alpha': 1, 'tfidf__max_features': 1000, 'tfidf__min_df': 1, 'tfidf__ngram_range': (1, 1), 'tfidf__stop_words': ['hereby', 'part', 'something', 'therein', 'whence', 'interest', 'before', 'none', 'rather', 'here', 'eleven', 'seemed', 'twenty', 'whither', 'on', 'them', 'amoungst', 'nine', 'be', 'hundred', 'except', 'down', 'yet', 'upon', 'herein', 'hers', 'herself', 'moreover', 'and', 'seem', 'can', 'another', 'least', 'co', 'still', 'my', 'toward', 'cry', 'such', 'hereafter', 'keep', 'everything', 'name', 'few', 'most', 'also', 'us', 'cant', 'whatever', 'myself', 'nowhere', 'it', 'who', 'by', 'thus', 'four', 'this', 'through', 'everyone', 'although', 'move', 'thick', 'so', 'serious', 'whereby', 'among', 'get', 'throughout', 'is', 'last', 'yourselves', 'these', 'inc', 'whereafter', 'very', 'find', 'indeed', 'next', 'must', 'above', 'forty', 'often', 'mostly', 'perhaps', 'himself', 'only', 'into', 'one', 'i', 'con', 'noone', 'per', 'go', 'bill', 'fire', 'been', 'anywhere', 'therefore', 'fill', 'me', 'however', 'could', 'cannot', 'his', 'itself', 'the', 'then', 'afterwards', 'as', 'empty', 'up', 'might', 'somehow', 'there', 'ourselves', 'made', 'show', 'becoming', 'between', 'bottom', 'behind', 'our', 'thence', 'full', 'whole', 'wherein', 'thin', 'they', 'somewhere', 'are', 'own', 'a', 'please', 'fifty', 'both', 'while', 'back', 'will', 'system', 'but', 'amongst', 'sometimes', 'nothing', 'many', 'had', 'ten', 'became', 'ever', 'beside', 'becomes', 'would', 'etc', 'out', 'give', 'more', 'over', 'too', 'someone', 'thru', 'anyone', 'already', 'where', 'its', 'yours', 'either', 'themselves', 'an', 'former', 'side', 'become', 'you', 'eg', 'again', 'two', 'un', 'hereupon', 'enough', 'nobody', 'until', 'do', 'thereby', 'were', 'put', 'mill', 'much', 'describe', 'or', 'was', 'once', 'whenever', 'anything', 'alone', 'against', 'nor', 'ltd', 'after', 'otherwise', 'everywhere', 'below', 'onto', 'several', 'found', 'other', 'sincere', 'not', 'mine', 'for', 'see', 'under', 'due', 'call', 'sometime', 'third', 'together', 'your', 'elsewhere', 'him', 'every', 'whom', 'towards', 'any', 'at', 'from', 'whoever', 'latter', 'anyhow', 'within', 'to', 'in', 'when', 'via', 'their', 'front', 'with', 'whereupon', 'we', 'being', 'ours', 'that', 'he', 'ie', 'take', 'anyway', 'nevertheless', 'because', 'detail', 'first', 'three', 'her', 'along', 'others', 'than', 'though', 'always', 'whose', 'sixty', 'couldnt', 'done', 'across', 'hence', 'fifteen', 'yourself', 'de', 'about', 'six', 'formerly', 'may', 'eight', 'seems', 'have', 'almost', 'now', 'of', 'should', 'namely', 'same', 'beforehand', 'less', 'without', 'why', 'which', 'meanwhile', 'thereupon', 'what', 'besides', 'further', 'twelve', 'whether', 'around', 'top', 'each', 'those', 'amount', 'latterly', 'since', 'some', 'if', 'she', 'whereas', 'well', 'even', 'how', 'seeming', 're', 'wherever', 'beyond', 'has', 'off', 'am', 'else', 'never', 'no', 'during', 'all', 'five', 'neither', 'thereafter', 'hasnt', 'did', 'got', 'just', 'does', 'need', 'amp', 've', 'amp']}\n",
      "\n",
      "train score: 0.8432174505794138\n",
      "test params: 0.803761242845462\n"
     ]
    }
   ],
   "source": [
    "pipe_tfidf_mnb_params = {\n",
    "    'tfidf__stop_words': ['english', custom_stop_words], \n",
    "    'tfidf__min_df': [1, 2, 3],\n",
    "    'tfidf__ngram_range': [(1, 1), (1, 2), (1, 3)],\n",
    "    'tfidf__max_features': [500, 720, 1_000],\n",
    "    'mnb__alpha': [1]\n",
    "}\n",
    "\n",
    "gs_tfidf_mnb= GridSearchCV(pipe_tfidf_mnb, param_grid= pipe_tfidf_mnb_params, cv= 5, verbose= 1) # 5-fold cross-validation.\n",
    "gs_tfidf_mnb.fit(X_train, y_train)\n",
    "\n",
    "print(f'best score: {gs_tfidf_mnb.best_score_}')\n",
    "print(f'best params: {gs_tfidf_mnb.best_params_}')\n",
    "print()\n",
    "print(f'train score: {gs_tfidf_mnb.score(X_train, y_train)}')\n",
    "print(f'test score: {gs_tfidf_mnb.score(X_test, y_test)}')"
   ]
  },
  {
   "cell_type": "code",
   "execution_count": 49,
   "id": "54f17e57-bd52-4fe1-962e-3d54ca37e607",
   "metadata": {},
   "outputs": [
    {
     "data": {
      "image/png": "[encoded data removed]",
      "text/plain": [
       "<Figure size 432x288 with 2 Axes>"
      ]
     },
     "metadata": {},
     "output_type": "display_data"
    }
   ],
   "source": [
    "plot_confusion_matrix(gs_mnb_log, X_test, y_test, cmap= 'Purples');"
   ]
  },
  {
   "cell_type": "code",
   "execution_count": null,
   "id": "306186c4-b34f-42dd-9d45-a01b8625d8d9",
   "metadata": {},
   "outputs": [],
   "source": []
  },
  {
   "cell_type": "code",
   "execution_count": null,
   "id": "94ea3eac-239a-4be7-9120-e455bc69b9df",
   "metadata": {},
   "outputs": [],
   "source": []
  },
  {
   "cell_type": "markdown",
   "id": "7ca518b9-14bb-466b-a4bf-fc39f5e9832f",
   "metadata": {},
   "source": [
    "### model 6: tfidf/mnb- randomsearch"
   ]
  },
  {
   "cell_type": "code",
   "execution_count": 44,
   "id": "09f7ae2c-4ef5-4824-af75-dff5e178af56",
   "metadata": {},
   "outputs": [
    {
     "data": {
      "text/plain": [
       "dict_keys(['memory', 'steps', 'verbose', 'tfidf', 'mnb', 'tfidf__analyzer', 'tfidf__binary', 'tfidf__decode_error', 'tfidf__dtype', 'tfidf__encoding', 'tfidf__input', 'tfidf__lowercase', 'tfidf__max_df', 'tfidf__max_features', 'tfidf__min_df', 'tfidf__ngram_range', 'tfidf__norm', 'tfidf__preprocessor', 'tfidf__smooth_idf', 'tfidf__stop_words', 'tfidf__strip_accents', 'tfidf__sublinear_tf', 'tfidf__token_pattern', 'tfidf__tokenizer', 'tfidf__use_idf', 'tfidf__vocabulary', 'mnb__alpha', 'mnb__class_prior', 'mnb__fit_prior'])"
      ]
     },
     "execution_count": 44,
     "metadata": {},
     "output_type": "execute_result"
    }
   ],
   "source": [
    "pipe_tfidf_mnb= Pipeline([\n",
    "    ('tfidf', TfidfVectorizer()),\n",
    "    ('mnb', MultinomialNB())\n",
    "])\n",
    "\n",
    "pipe_tfidf_mnb.get_params().keys()"
   ]
  },
  {
   "cell_type": "code",
   "execution_count": 45,
   "id": "2305e499-9fbe-4d7e-b387-781b14bf177a",
   "metadata": {},
   "outputs": [
    {
     "name": "stdout",
     "output_type": "stream",
     "text": [
      "Fitting 5 folds for each of 100 candidates, totalling 500 fits\n",
      "best score: 0.7914523536728317\n",
      "best params: {'mnb__alpha': 1, 'tfidf__max_features': 1000, 'tfidf__min_df': 0.001989744173979979, 'tfidf__ngram_range': (1, 1), 'tfidf__stop_words': ['hereby', 'part', 'something', 'therein', 'whence', 'interest', 'before', 'none', 'rather', 'here', 'eleven', 'seemed', 'twenty', 'whither', 'on', 'them', 'amoungst', 'nine', 'be', 'hundred', 'except', 'down', 'yet', 'upon', 'herein', 'hers', 'herself', 'moreover', 'and', 'seem', 'can', 'another', 'least', 'co', 'still', 'my', 'toward', 'cry', 'such', 'hereafter', 'keep', 'everything', 'name', 'few', 'most', 'also', 'us', 'cant', 'whatever', 'myself', 'nowhere', 'it', 'who', 'by', 'thus', 'four', 'this', 'through', 'everyone', 'although', 'move', 'thick', 'so', 'serious', 'whereby', 'among', 'get', 'throughout', 'is', 'last', 'yourselves', 'these', 'inc', 'whereafter', 'very', 'find', 'indeed', 'next', 'must', 'above', 'forty', 'often', 'mostly', 'perhaps', 'himself', 'only', 'into', 'one', 'i', 'con', 'noone', 'per', 'go', 'bill', 'fire', 'been', 'anywhere', 'therefore', 'fill', 'me', 'however', 'could', 'cannot', 'his', 'itself', 'the', 'then', 'afterwards', 'as', 'empty', 'up', 'might', 'somehow', 'there', 'ourselves', 'made', 'show', 'becoming', 'between', 'bottom', 'behind', 'our', 'thence', 'full', 'whole', 'wherein', 'thin', 'they', 'somewhere', 'are', 'own', 'a', 'please', 'fifty', 'both', 'while', 'back', 'will', 'system', 'but', 'amongst', 'sometimes', 'nothing', 'many', 'had', 'ten', 'became', 'ever', 'beside', 'becomes', 'would', 'etc', 'out', 'give', 'more', 'over', 'too', 'someone', 'thru', 'anyone', 'already', 'where', 'its', 'yours', 'either', 'themselves', 'an', 'former', 'side', 'become', 'you', 'eg', 'again', 'two', 'un', 'hereupon', 'enough', 'nobody', 'until', 'do', 'thereby', 'were', 'put', 'mill', 'much', 'describe', 'or', 'was', 'once', 'whenever', 'anything', 'alone', 'against', 'nor', 'ltd', 'after', 'otherwise', 'everywhere', 'below', 'onto', 'several', 'found', 'other', 'sincere', 'not', 'mine', 'for', 'see', 'under', 'due', 'call', 'sometime', 'third', 'together', 'your', 'elsewhere', 'him', 'every', 'whom', 'towards', 'any', 'at', 'from', 'whoever', 'latter', 'anyhow', 'within', 'to', 'in', 'when', 'via', 'their', 'front', 'with', 'whereupon', 'we', 'being', 'ours', 'that', 'he', 'ie', 'take', 'anyway', 'nevertheless', 'because', 'detail', 'first', 'three', 'her', 'along', 'others', 'than', 'though', 'always', 'whose', 'sixty', 'couldnt', 'done', 'across', 'hence', 'fifteen', 'yourself', 'de', 'about', 'six', 'formerly', 'may', 'eight', 'seems', 'have', 'almost', 'now', 'of', 'should', 'namely', 'same', 'beforehand', 'less', 'without', 'why', 'which', 'meanwhile', 'thereupon', 'what', 'besides', 'further', 'twelve', 'whether', 'around', 'top', 'each', 'those', 'amount', 'latterly', 'since', 'some', 'if', 'she', 'whereas', 'well', 'even', 'how', 'seeming', 're', 'wherever', 'beyond', 'has', 'off', 'am', 'else', 'never', 'no', 'during', 'all', 'five', 'neither', 'thereafter', 'hasnt', 'did', 'got', 'just', 'does', 'need', 'amp', 've', 'amp']}\n",
      "\n",
      "train score: 0.8089290394924239\n",
      "test params: 0.7887097067111352\n"
     ]
    }
   ],
   "source": [
    "pipe_tfidf_mnb_params = {\n",
    "    'tfidf__stop_words': ['english', custom_stop_words], \n",
    "    'tfidf__min_df': uniform(0, 0.15),\n",
    "    'tfidf__ngram_range': [(1, 1), (1, 2), (1, 3)],\n",
    "    'tfidf__max_features': [500, 720, 1_000],\n",
    "    'mnb__alpha': [1]\n",
    "}\n",
    "\n",
    "rs_tfidf_mnb= RandomizedSearchCV(pipe_tfidf_mnb, param_distributions= pipe_tfidf_mnb_params, cv= 5, n_jobs = -2,\n",
    "                              verbose= 2, random_state= 42, n_iter = 100, error_score='raise', scoring= 'f1_weighted')\n",
    "rs_tfidf_mnb.fit(X_train, y_train)\n",
    "\n",
    "print(f'best score: {rs_tfidf_mnb.best_score_}')\n",
    "print(f'best params: {rs_tfidf_mnb.best_params_}')\n",
    "print()\n",
    "print(f'train score: {rs_tfidf_mnb.score(X_train, y_train)}')\n",
    "print(f'test score: {rs_tfidf_mnb.score(X_test, y_test)}')"
   ]
  },
  {
   "cell_type": "code",
   "execution_count": 47,
   "id": "d97dc96c-022f-481d-86bf-52321c1293f8",
   "metadata": {},
   "outputs": [
    {
     "data": {
      "image/png": "[encoded data removed]",
      "text/plain": [
       "<Figure size 432x288 with 2 Axes>"
      ]
     },
     "metadata": {},
     "output_type": "display_data"
    }
   ],
   "source": [
    "plot_confusion_matrix(rs_tfidf_mnb, X_test, y_test, cmap= 'Purples');"
   ]
  },
  {
   "cell_type": "code",
   "execution_count": null,
   "id": "53d1e384-1c06-489d-9bd1-e392a93cd2f9",
   "metadata": {},
   "outputs": [],
   "source": []
  },
  {
   "cell_type": "code",
   "execution_count": null,
   "id": "e21ef88d-8252-4f39-a4a0-71f3bf2b1618",
   "metadata": {},
   "outputs": [],
   "source": []
  },
  {
   "cell_type": "markdown",
   "id": "b4a257a3-54f5-4f60-add1-a235db7e9b23",
   "metadata": {},
   "source": [
    "### misclassification analysis"
   ]
  },
  {
   "cell_type": "code",
   "execution_count": null,
   "id": "07bc8c4e-4e14-4f88-a281-b853b95833d4",
   "metadata": {},
   "outputs": [],
   "source": [
    "# went to with the cv/log model cause it had the highest train score and test score"
   ]
  },
  {
   "cell_type": "code",
   "execution_count": 46,
   "id": "c5f4ea3b-caa4-4654-b175-6ae483a3b54b",
   "metadata": {},
   "outputs": [],
   "source": [
    "test_preds= gs_cv_log.predict(X_test)\n",
    "\n",
    "misclass= X_test.copy().to_frame()"
   ]
  },
  {
   "cell_type": "code",
   "execution_count": 51,
   "id": "35304767-4a43-45a4-b547-baaae7231d40",
   "metadata": {},
   "outputs": [],
   "source": [
    "# add true class and predicted class columns to misclass df\n",
    "misclass['true_class']= y_test.values\n",
    "misclass['predicted_class']= test_preds\n",
    "\n",
    "misclass_df= misclass[misclass['true_class'] != misclass['predicted_class']]\n",
    "\n",
    "misclass_df.shape # how many posts were misclassified"
   ]
  },
  {
   "cell_type": "code",
   "execution_count": 56,
   "id": "0acd12f5-282e-4612-9e49-c856255b0b89",
   "metadata": {},
   "outputs": [],
   "source": [
    "df= misclass_df.merge(all_witcher_5000, left_index=True, right_index=True).drop(columns= ['selftext', 'subreddit', 'title_x'])\n",
    "\n",
    "df[100:150] # for looking at subset of missclassed data"
   ]
  },
  {
   "cell_type": "code",
   "execution_count": 109,
   "id": "0d8a2c95-97d0-4a0c-85e1-fb8499bea19f",
   "metadata": {},
   "outputs": [
    {
     "data": {
      "text/html": [
       "<div>\n",
       "<style scoped>\n",
       "    .dataframe tbody tr th:only-of-type {\n",
       "        vertical-align: middle;\n",
       "    }\n",
       "\n",
       "    .dataframe tbody tr th {\n",
       "        vertical-align: top;\n",
       "    }\n",
       "\n",
       "    .dataframe thead th {\n",
       "        text-align: right;\n",
       "    }\n",
       "</style>\n",
       "<table border=\"1\" class=\"dataframe\">\n",
       "  <thead>\n",
       "    <tr style=\"text-align: right;\">\n",
       "      <th></th>\n",
       "      <th>title</th>\n",
       "      <th>true_class</th>\n",
       "      <th>predicted_class</th>\n",
       "    </tr>\n",
       "  </thead>\n",
       "  <tbody>\n",
       "    <tr>\n",
       "      <th>0</th>\n",
       "      <td>Dandelion cosplay by GraysonFin</td>\n",
       "      <td>netflixwitcher</td>\n",
       "      <td>Witcher3</td>\n",
       "    </tr>\n",
       "    <tr>\n",
       "      <th>1</th>\n",
       "      <td>A very easy way to show how what Jaskiers song has done to me when I first heard it</td>\n",
       "      <td>netflixwitcher</td>\n",
       "      <td>Witcher3</td>\n",
       "    </tr>\n",
       "    <tr>\n",
       "      <th>2</th>\n",
       "      <td>Our first witcher \"cosplay\" for halloween🙃</td>\n",
       "      <td>netflixwitcher</td>\n",
       "      <td>Witcher3</td>\n",
       "    </tr>\n",
       "    <tr>\n",
       "      <th>3</th>\n",
       "      <td>Yennefer of Vengerberg cosplay</td>\n",
       "      <td>Witcher3</td>\n",
       "      <td>netflixwitcher</td>\n",
       "    </tr>\n",
       "    <tr>\n",
       "      <th>4</th>\n",
       "      <td>Ciri cosplay by cherrycrush</td>\n",
       "      <td>Witcher3</td>\n",
       "      <td>netflixwitcher</td>\n",
       "    </tr>\n",
       "    <tr>\n",
       "      <th>5</th>\n",
       "      <td>Dandelion cosplay by GraysonFin</td>\n",
       "      <td>netflixwitcher</td>\n",
       "      <td>Witcher3</td>\n",
       "    </tr>\n",
       "    <tr>\n",
       "      <th>6</th>\n",
       "      <td>More Geralt Cosplay!</td>\n",
       "      <td>netflixwitcher</td>\n",
       "      <td>Witcher3</td>\n",
       "    </tr>\n",
       "    <tr>\n",
       "      <th>7</th>\n",
       "      <td>Look I caught a wild beast! ( Geralt cosplay.... featuring my cat. Who wanted to know what I was doing.) ( self.)</td>\n",
       "      <td>netflixwitcher</td>\n",
       "      <td>Witcher3</td>\n",
       "    </tr>\n",
       "    <tr>\n",
       "      <th>8</th>\n",
       "      <td>Cosplay Witcher3 mesh with Netflix Geralt. 2 months of work for Halloween.</td>\n",
       "      <td>Witcher3</td>\n",
       "      <td>netflixwitcher</td>\n",
       "    </tr>\n",
       "    <tr>\n",
       "      <th>9</th>\n",
       "      <td>Queen Calanthe of Cintra cosplay by Felora (books)</td>\n",
       "      <td>Witcher3</td>\n",
       "      <td>netflixwitcher</td>\n",
       "    </tr>\n",
       "    <tr>\n",
       "      <th>10</th>\n",
       "      <td>My Geralt Cosplay ( Self)</td>\n",
       "      <td>netflixwitcher</td>\n",
       "      <td>Witcher3</td>\n",
       "    </tr>\n",
       "    <tr>\n",
       "      <th>11</th>\n",
       "      <td>[OC] Wanna cosplay as geralt? My original Fancy-Witcher tutorial videos are a great way to start! Not into my fancy design? I demonstrate how to measure your body and precisely draw/cut your uniquely shaped armor pieces, its your choice how to decorate them! Absorb my knowledge, link on photos:)</td>\n",
       "      <td>netflixwitcher</td>\n",
       "      <td>Witcher3</td>\n",
       "    </tr>\n",
       "    <tr>\n",
       "      <th>12</th>\n",
       "      <td>CDPR's Gwent standalone game has now Netflix Geralt's sword with Renfri's broach as a cosmetic!</td>\n",
       "      <td>netflixwitcher</td>\n",
       "      <td>Witcher3</td>\n",
       "    </tr>\n",
       "    <tr>\n",
       "      <th>13</th>\n",
       "      <td>We need more GWENT action in the Witcher series</td>\n",
       "      <td>netflixwitcher</td>\n",
       "      <td>Witcher3</td>\n",
       "    </tr>\n",
       "    <tr>\n",
       "      <th>14</th>\n",
       "      <td>A round of Gwent with Little Flint Girl.</td>\n",
       "      <td>Witcher3</td>\n",
       "      <td>netflixwitcher</td>\n",
       "    </tr>\n",
       "    <tr>\n",
       "      <th>15</th>\n",
       "      <td>Yennefer of Vengerberg cosplay</td>\n",
       "      <td>Witcher3</td>\n",
       "      <td>netflixwitcher</td>\n",
       "    </tr>\n",
       "    <tr>\n",
       "      <th>16</th>\n",
       "      <td>Geralt, Eskel and Lambert get drunk and put on yennefer’s clothes</td>\n",
       "      <td>Witcher3</td>\n",
       "      <td>netflixwitcher</td>\n",
       "    </tr>\n",
       "    <tr>\n",
       "      <th>17</th>\n",
       "      <td>Yennefer and Vernon dance</td>\n",
       "      <td>Witcher3</td>\n",
       "      <td>netflixwitcher</td>\n",
       "    </tr>\n",
       "    <tr>\n",
       "      <th>18</th>\n",
       "      <td>Did you liked Yennefer’s arc from netflix series.</td>\n",
       "      <td>Witcher3</td>\n",
       "      <td>netflixwitcher</td>\n",
       "    </tr>\n",
       "    <tr>\n",
       "      <th>19</th>\n",
       "      <td>The witcher Ciri | Geralt and Yennefer | BEING A FAMILY</td>\n",
       "      <td>Witcher3</td>\n",
       "      <td>netflixwitcher</td>\n",
       "    </tr>\n",
       "    <tr>\n",
       "      <th>20</th>\n",
       "      <td>Why did Triss not mention Yennefer to Geralt right away?</td>\n",
       "      <td>netflixwitcher</td>\n",
       "      <td>Witcher3</td>\n",
       "    </tr>\n",
       "    <tr>\n",
       "      <th>21</th>\n",
       "      <td>Yennefers death.</td>\n",
       "      <td>netflixwitcher</td>\n",
       "      <td>Witcher3</td>\n",
       "    </tr>\n",
       "    <tr>\n",
       "      <th>22</th>\n",
       "      <td>Time to settle this. Triss or Yennefer?</td>\n",
       "      <td>Witcher3</td>\n",
       "      <td>netflixwitcher</td>\n",
       "    </tr>\n",
       "    <tr>\n",
       "      <th>23</th>\n",
       "      <td>Geralt and Yennefer's wedding</td>\n",
       "      <td>Witcher3</td>\n",
       "      <td>netflixwitcher</td>\n",
       "    </tr>\n",
       "    <tr>\n",
       "      <th>24</th>\n",
       "      <td>Yes yes, I would very much enjoy smelling like Yennefer's pits~ ❤ Low-key really excited to try these.</td>\n",
       "      <td>Witcher3</td>\n",
       "      <td>netflixwitcher</td>\n",
       "    </tr>\n",
       "    <tr>\n",
       "      <th>25</th>\n",
       "      <td>Genuine question, why like Yennefer?</td>\n",
       "      <td>Witcher3</td>\n",
       "      <td>netflixwitcher</td>\n",
       "    </tr>\n",
       "    <tr>\n",
       "      <th>26</th>\n",
       "      <td>All mentions of Yennefer in The Witcher</td>\n",
       "      <td>Witcher3</td>\n",
       "      <td>netflixwitcher</td>\n",
       "    </tr>\n",
       "  </tbody>\n",
       "</table>\n",
       "</div>"
      ],
      "text/plain": [
       "                                                                                                                                                                                                                                                                                                       title  \\\n",
       "0                                                                                                                                                                                                                                                                            Dandelion cosplay by GraysonFin   \n",
       "1                                                                                                                                                                                                                        A very easy way to show how what Jaskiers song has done to me when I first heard it   \n",
       "2                                                                                                                                                                                                                                                                 Our first witcher \"cosplay\" for halloween🙃   \n",
       "3                                                                                                                                                                                                                                                                             Yennefer of Vengerberg cosplay   \n",
       "4                                                                                                                                                                                                                                                                                Ciri cosplay by cherrycrush   \n",
       "5                                                                                                                                                                                                                                                                            Dandelion cosplay by GraysonFin   \n",
       "6                                                                                                                                                                                                                                                                                       More Geralt Cosplay!   \n",
       "7                                                                                                                                                                                          Look I caught a wild beast! ( Geralt cosplay.... featuring my cat. Who wanted to know what I was doing.) ( self.)   \n",
       "8                                                                                                                                                                                                                                 Cosplay Witcher3 mesh with Netflix Geralt. 2 months of work for Halloween.   \n",
       "9                                                                                                                                                                                                                                                         Queen Calanthe of Cintra cosplay by Felora (books)   \n",
       "10                                                                                                                                                                                                                                                                                 My Geralt Cosplay ( Self)   \n",
       "11  [OC] Wanna cosplay as geralt? My original Fancy-Witcher tutorial videos are a great way to start! Not into my fancy design? I demonstrate how to measure your body and precisely draw/cut your uniquely shaped armor pieces, its your choice how to decorate them! Absorb my knowledge, link on photos:)   \n",
       "12                                                                                                                                                                                                           CDPR's Gwent standalone game has now Netflix Geralt's sword with Renfri's broach as a cosmetic!   \n",
       "13                                                                                                                                                                                                                                                           We need more GWENT action in the Witcher series   \n",
       "14                                                                                                                                                                                                                                                                  A round of Gwent with Little Flint Girl.   \n",
       "15                                                                                                                                                                                                                                                                            Yennefer of Vengerberg cosplay   \n",
       "16                                                                                                                                                                                                                                         Geralt, Eskel and Lambert get drunk and put on yennefer’s clothes   \n",
       "17                                                                                                                                                                                                                                                                                 Yennefer and Vernon dance   \n",
       "18                                                                                                                                                                                                                                                         Did you liked Yennefer’s arc from netflix series.   \n",
       "19                                                                                                                                                                                                                                                   The witcher Ciri | Geralt and Yennefer | BEING A FAMILY   \n",
       "20                                                                                                                                                                                                                                                  Why did Triss not mention Yennefer to Geralt right away?   \n",
       "21                                                                                                                                                                                                                                                                                          Yennefers death.   \n",
       "22                                                                                                                                                                                                                                                                   Time to settle this. Triss or Yennefer?   \n",
       "23                                                                                                                                                                                                                                                                             Geralt and Yennefer's wedding   \n",
       "24                                                                                                                                                                                                    Yes yes, I would very much enjoy smelling like Yennefer's pits~ ❤ Low-key really excited to try these.   \n",
       "25                                                                                                                                                                                                                                                                      Genuine question, why like Yennefer?   \n",
       "26                                                                                                                                                                                                                                                                   All mentions of Yennefer in The Witcher   \n",
       "\n",
       "        true_class predicted_class  \n",
       "0   netflixwitcher        Witcher3  \n",
       "1   netflixwitcher        Witcher3  \n",
       "2   netflixwitcher        Witcher3  \n",
       "3         Witcher3  netflixwitcher  \n",
       "4         Witcher3  netflixwitcher  \n",
       "5   netflixwitcher        Witcher3  \n",
       "6   netflixwitcher        Witcher3  \n",
       "7   netflixwitcher        Witcher3  \n",
       "8         Witcher3  netflixwitcher  \n",
       "9         Witcher3  netflixwitcher  \n",
       "10  netflixwitcher        Witcher3  \n",
       "11  netflixwitcher        Witcher3  \n",
       "12  netflixwitcher        Witcher3  \n",
       "13  netflixwitcher        Witcher3  \n",
       "14        Witcher3  netflixwitcher  \n",
       "15        Witcher3  netflixwitcher  \n",
       "16        Witcher3  netflixwitcher  \n",
       "17        Witcher3  netflixwitcher  \n",
       "18        Witcher3  netflixwitcher  \n",
       "19        Witcher3  netflixwitcher  \n",
       "20  netflixwitcher        Witcher3  \n",
       "21  netflixwitcher        Witcher3  \n",
       "22        Witcher3  netflixwitcher  \n",
       "23        Witcher3  netflixwitcher  \n",
       "24        Witcher3  netflixwitcher  \n",
       "25        Witcher3  netflixwitcher  \n",
       "26        Witcher3  netflixwitcher  "
      ]
     },
     "execution_count": 109,
     "metadata": {},
     "output_type": "execute_result"
    }
   ],
   "source": [
    "# look at misclassified posts based on specific words\n",
    "\n",
    "words= ['dandelion', 'jaskier', 'cosplay', 'gwent', 'yennefer']\n",
    "\n",
    "misclass_words= pd.DataFrame()\n",
    "\n",
    "for word in words:\n",
    "    mc_words= misclass_df[misclass_df['title'].str.lower().str.contains(word)]\n",
    "    misclass_words= misclass_words.append(mc_words, ignore_index= True)\n",
    "\n",
    "misclass_words"
   ]
  },
  {
   "cell_type": "code",
   "execution_count": null,
   "id": "e3b99f05-7a02-4129-94f3-4d143d4ec145",
   "metadata": {},
   "outputs": [],
   "source": []
  },
  {
   "cell_type": "code",
   "execution_count": null,
   "id": "a1410957-3526-4370-8ded-ea7da61d86b6",
   "metadata": {},
   "outputs": [],
   "source": []
  }
 ],
 "metadata": {
  "kernelspec": {
   "display_name": "Python 3 (ipykernel)",
   "language": "python",
   "name": "python3"
  },
  "language_info": {
   "codemirror_mode": {
    "name": "ipython",
    "version": 3
   },
   "file_extension": ".py",
   "mimetype": "text/x-python",
   "name": "python",
   "nbconvert_exporter": "python",
   "pygments_lexer": "ipython3",
   "version": "3.9.7"
  }
 },
 "nbformat": 4,
 "nbformat_minor": 5
}
